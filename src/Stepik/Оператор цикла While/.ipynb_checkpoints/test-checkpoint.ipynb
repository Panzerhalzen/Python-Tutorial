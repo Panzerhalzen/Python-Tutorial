{
 "cells": [
  {
   "cell_type": "code",
   "execution_count": 3,
   "id": "640f69a2",
   "metadata": {},
   "outputs": [
    {
     "name": "stdout",
     "output_type": "stream",
     "text": [
      "2 4\n",
      "4 9 16 \n"
     ]
    }
   ],
   "source": [
    "n, m = map(int, input().split())\n",
    "\n",
    "i = n\n",
    "result = ''\n",
    "\n",
    "while n <= i <= m:\n",
    "    result += str(i ** 2) + ' '\n",
    "    i += 1\n",
    "    \n",
    "print(result)"
   ]
  },
  {
   "cell_type": "code",
   "execution_count": 4,
   "id": "b3d658c4",
   "metadata": {},
   "outputs": [
    {
     "name": "stdout",
     "output_type": "stream",
     "text": [
      "8\n",
      "2.718\n"
     ]
    }
   ],
   "source": [
    "limit = int(input())\n",
    "\n",
    "i = 1\n",
    "result = 0\n",
    "\n",
    "while i <= limit:\n",
    "    result += round((1 / i), 3)\n",
    "    i += 1\n",
    "    \n",
    "print(result)\n"
   ]
  },
  {
   "cell_type": "code",
   "execution_count": 14,
   "id": "8e9c41b4",
   "metadata": {},
   "outputs": [
    {
     "name": "stdout",
     "output_type": "stream",
     "text": [
      "816\n",
      "[8, 1, 6]\n",
      "48\n"
     ]
    }
   ],
   "source": [
    "a = list(map(int, input()))\n",
    "\n",
    "i = 0\n",
    "s = 1\n",
    "\n",
    "while i != len(a):\n",
    "    s = s * a[i]\n",
    "    i += 1\n",
    "\n",
    "print(a)\n",
    "print(s)"
   ]
  },
  {
   "cell_type": "code",
   "execution_count": 17,
   "id": "c165b206",
   "metadata": {},
   "outputs": [
    {
     "data": {
      "text/plain": [
       "0"
      ]
     },
     "execution_count": 17,
     "metadata": {},
     "output_type": "execute_result"
    }
   ],
   "source": [
    "6 % 3"
   ]
  },
  {
   "cell_type": "code",
   "execution_count": 4,
   "id": "04179e82",
   "metadata": {},
   "outputs": [
    {
     "name": "stdout",
     "output_type": "stream",
     "text": [
      "231 372 513 654 795 936\n"
     ]
    }
   ],
   "source": [
    "result = []\n",
    "\n",
    "i = 101\n",
    "\n",
    "while 100 < i < 1000:\n",
    "    if (i % 47 == 43) and (i % 3 == 0):\n",
    "        result.append(i)\n",
    "    i += 1\n",
    "        \n",
    "print(*result)"
   ]
  },
  {
   "cell_type": "code",
   "execution_count": null,
   "id": "83c4f219",
   "metadata": {},
   "outputs": [],
   "source": []
  }
 ],
 "metadata": {
  "kernelspec": {
   "display_name": "Python 3 (ipykernel)",
   "language": "python",
   "name": "python3"
  },
  "language_info": {
   "codemirror_mode": {
    "name": "ipython",
    "version": 3
   },
   "file_extension": ".py",
   "mimetype": "text/x-python",
   "name": "python",
   "nbconvert_exporter": "python",
   "pygments_lexer": "ipython3",
   "version": "3.9.12"
  }
 },
 "nbformat": 4,
 "nbformat_minor": 5
}
