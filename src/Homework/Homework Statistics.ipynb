{
 "cells": [
  {
   "cell_type": "code",
   "execution_count": 41,
   "id": "780f77bc",
   "metadata": {},
   "outputs": [
    {
     "data": {
      "image/png": "[encoded data removed]",
      "text/plain": [
       "<Figure size 432x288 with 1 Axes>"
      ]
     },
     "metadata": {
      "needs_background": "light"
     },
     "output_type": "display_data"
    }
   ],
   "source": [
    "# Сколько hr'ы в нашей команде пригласили людей\n",
    "import numpy as np\n",
    "import matplotlib.pyplot as plt\n",
    "from collections import Counter\n",
    "\n",
    "invited_people = [np.random.randint(0, 30) for i in range(20)] #Список, сколько людей пригласил каждый hr\n",
    "\n",
    "people_counter = Counter(invited_people)\n",
    "xs = [num_people for num_people in people_counter]\n",
    "ys = [people_counter[num_people] for num_people in people_counter]\n",
    "plt.bar(xs, ys, color='black', edgecolor='red')\n",
    "plt.xticks([2 * i for i in range(16)])\n",
    "plt.xlabel('Число приглашенных людей')\n",
    "plt.ylabel('Число hr')\n",
    "plt.title('Количество приглашений')\n",
    "plt.show()"
   ]
  },
  {
   "cell_type": "code",
   "execution_count": 4,
   "id": "55242682",
   "metadata": {},
   "outputs": [
    {
     "name": "stdout",
     "output_type": "stream",
     "text": [
      "Кол-во точек:  20\n"
     ]
    }
   ],
   "source": [
    "#Число точек данных\n",
    "num_points = len(invited_people)\n",
    "print('Кол-во точек: ', num_points)"
   ]
  },
  {
   "cell_type": "code",
   "execution_count": 5,
   "id": "cff7dc52",
   "metadata": {},
   "outputs": [
    {
     "name": "stdout",
     "output_type": "stream",
     "text": [
      "Наибольшее число приглашенных людей:  29\n",
      "Наименьшее число приглашенных людей:  0\n"
     ]
    }
   ],
   "source": [
    "#Наибольшие и наименьшие значения\n",
    "max_value = max(invited_people)\n",
    "min_value = min(invited_people)\n",
    "print('Наибольшее число приглашенных людей: ', max_value)\n",
    "print('Наименьшее число приглашенных людей: ', min_value)"
   ]
  },
  {
   "cell_type": "code",
   "execution_count": 6,
   "id": "d48e5fb8",
   "metadata": {},
   "outputs": [
    {
     "name": "stdout",
     "output_type": "stream",
     "text": [
      "Второй минимум: 3\n",
      "Второй максимум: 27\n"
     ]
    }
   ],
   "source": [
    "sorted_values = sorted(list(set(invited_people))) # избавляемся от повторяющихся значений\n",
    "print(f'Второй минимум: {sorted_values[1]}')\n",
    "print(f'Второй максимум: {sorted_values[-2]}')"
   ]
  },
  {
   "cell_type": "code",
   "execution_count": 7,
   "id": "5f59d9fc",
   "metadata": {},
   "outputs": [
    {
     "name": "stdout",
     "output_type": "stream",
     "text": [
      "Среднее кол-во приглашенных людей: 14.85\n"
     ]
    }
   ],
   "source": [
    "#Среднее значение\n",
    "def calc_mean(l: list[float]) -> float:\n",
    "    return sum(l)/len(l)\n",
    "\n",
    "print(f'Среднее кол-во приглашенных людей: {calc_mean(invited_people)}')"
   ]
  },
  {
   "cell_type": "code",
   "execution_count": 8,
   "id": "842aa537",
   "metadata": {},
   "outputs": [
    {
     "name": "stdout",
     "output_type": "stream",
     "text": [
      "5\n"
     ]
    }
   ],
   "source": [
    "#Медианное значение\n",
    "\n",
    "def median(l: list[float]) -> float:\n",
    "    l = sorted(l)\n",
    "    if len(l) % 2 == 0:          # Для списков четным числом вхождений\n",
    "        a = l[len(l) // 2]\n",
    "        b = l[(len(l) // 2) - 1]\n",
    "        return (a + b) / 2       # Медианой является половинчатая сумма двух пограничных в половинках элементов\n",
    "    else:                        # Для списков с нечетным числом вхождений\n",
    "        return l[len(l) // 2]    # Медианой является средний элемент\n",
    "    \n",
    "print(median([9, 2, 5, 7, 1]))"
   ]
  },
  {
   "cell_type": "code",
   "execution_count": 9,
   "id": "618edaa3",
   "metadata": {},
   "outputs": [
    {
     "name": "stdout",
     "output_type": "stream",
     "text": [
      "Медианное число приглашений: 14.0\n"
     ]
    }
   ],
   "source": [
    "median = median(sorted(invited_people))\n",
    "print(f'Медианное число приглашений: {median}')"
   ]
  },
  {
   "cell_type": "code",
   "execution_count": 10,
   "id": "a67fde73",
   "metadata": {},
   "outputs": [
    {
     "name": "stdout",
     "output_type": "stream",
     "text": [
      "0\n",
      "4 Нижний квантиль\n",
      "24 Верхний квантиль\n",
      "27\n"
     ]
    }
   ],
   "source": [
    "#Квантиль\n",
    "def quantile(x: list[float], p: float) -> float:\n",
    "    \"\"\"Возвращает значение p-го процентиля в x\"\"\"\n",
    "    p_index = int(p * len(x)) # Преобразает % в индекс списка\n",
    "    return sorted(x)[p_index-1]\n",
    "\n",
    "print(quantile(invited_people, 0.10))\n",
    "print(quantile(invited_people, 0.25), 'Нижний квантиль')\n",
    "print(quantile(invited_people, 0.75), 'Верхний квантиль')\n",
    "print(quantile(invited_people, 0.90))"
   ]
  },
  {
   "cell_type": "code",
   "execution_count": 11,
   "id": "f68796b0",
   "metadata": {},
   "outputs": [],
   "source": [
    "#Мода"
   ]
  },
  {
   "cell_type": "code",
   "execution_count": 12,
   "id": "e41b5eac",
   "metadata": {},
   "outputs": [
    {
     "data": {
      "text/plain": [
       "[27, 0, 14]"
      ]
     },
     "execution_count": 12,
     "metadata": {},
     "output_type": "execute_result"
    }
   ],
   "source": [
    "def mode(x: list[float]) -> list[float]:\n",
    "    counts = Counter(x)\n",
    "    max_count = max(counts.values())\n",
    "    #print(counts)\n",
    "    return [x_i for x_i, count in counts.items() if count == max_count]\n",
    "\n",
    "\n",
    "mode(invited_people)"
   ]
  },
  {
   "cell_type": "code",
   "execution_count": 13,
   "id": "1daa4c9a",
   "metadata": {},
   "outputs": [],
   "source": [
    "# Вариация"
   ]
  },
  {
   "cell_type": "code",
   "execution_count": 14,
   "id": "cc65ef6d",
   "metadata": {},
   "outputs": [],
   "source": [
    "# Размах"
   ]
  },
  {
   "cell_type": "code",
   "execution_count": 15,
   "id": "4499a6a1",
   "metadata": {},
   "outputs": [
    {
     "name": "stdout",
     "output_type": "stream",
     "text": [
      "29\n"
     ]
    }
   ],
   "source": [
    "def data_range (x: list[float]) -> float:\n",
    "    return max(x) - min(x)\n",
    "\n",
    "print(data_range(invited_people))"
   ]
  },
  {
   "cell_type": "code",
   "execution_count": 16,
   "id": "8927bbb5",
   "metadata": {},
   "outputs": [],
   "source": [
    "#Дисперсия"
   ]
  },
  {
   "cell_type": "code",
   "execution_count": 46,
   "id": "6fca26ce",
   "metadata": {},
   "outputs": [],
   "source": [
    "def disp_mean(xs: list[float]) -> list[float]:\n",
    "    \"\"\"От каждого элемента списка вычесть среднее этого же списка\"\"\"\n",
    "    x_bar = calc_mean(xs)\n",
    "    return [x - x_bar for x in xs]\n",
    "\n",
    "def variance(xs: list[float]) -> float:\n",
    "    \"\"\"Дисперсия\"\"\"\n",
    "    assert len(xs) >= 2, 'В списке должно быть более двух элементов'\n",
    "    n = len(xs)\n",
    "    deviations = disp_mean(xs)\n",
    "    return sum([deviation**2 for deviation in deviations]) / (n - 1)    "
   ]
  },
  {
   "cell_type": "code",
   "execution_count": 18,
   "id": "9fa11b70",
   "metadata": {},
   "outputs": [
    {
     "data": {
      "text/plain": [
       "108.02894736842109"
      ]
     },
     "execution_count": 18,
     "metadata": {},
     "output_type": "execute_result"
    }
   ],
   "source": [
    "variance(invited_people)"
   ]
  },
  {
   "cell_type": "code",
   "execution_count": 19,
   "id": "a6cbe571",
   "metadata": {},
   "outputs": [],
   "source": [
    "#Среднеквадратическое отклонение"
   ]
  },
  {
   "cell_type": "code",
   "execution_count": 48,
   "id": "b3631cd7",
   "metadata": {},
   "outputs": [
    {
     "data": {
      "text/plain": [
       "7.258207695248767"
      ]
     },
     "execution_count": 48,
     "metadata": {},
     "output_type": "execute_result"
    }
   ],
   "source": [
    "import math\n",
    "\n",
    "def standart_deviation(xs: list[float]) -> float:\n",
    "    \"\"\"Стандартное отклонение - корень из дисперсии\"\"\"\n",
    "    return math.sqrt(variance(xs))\n",
    "\n",
    "standart_deviation(invited_people)"
   ]
  },
  {
   "cell_type": "code",
   "execution_count": 21,
   "id": "56ef5480",
   "metadata": {},
   "outputs": [],
   "source": [
    "#Интерквантильный размах\n",
    "#Разность между значением, соответствующим 75% и 25% данных"
   ]
  },
  {
   "cell_type": "code",
   "execution_count": 22,
   "id": "cbacea7a",
   "metadata": {},
   "outputs": [
    {
     "name": "stdout",
     "output_type": "stream",
     "text": [
      "20\n"
     ]
    }
   ],
   "source": [
    "def inter_quant(xs: list[float]) -> float:\n",
    "    return quantile(xs, 0.75) - quantile(xs, 0.25)\n",
    "\n",
    "print(inter_quant(invited_people))"
   ]
  },
  {
   "cell_type": "code",
   "execution_count": 44,
   "id": "54bc7aff",
   "metadata": {},
   "outputs": [
    {
     "name": "stdout",
     "output_type": "stream",
     "text": [
      "[24, 9, 20, 14, 5, 26, 22, 15, 14, 12, 17, 19, 25, 12, 11, 9, 25, 26, 22, 2]\n",
      "[3, 8, 5, 1, 4, 7, 7, 2, 5, 6, 4, 5, 6, 3, 5, 4, 5, 5, 4, 5]\n",
      "1.7210526315789476\n",
      "Среднее invited people 16.45\n",
      "Среднее work time 4.7\n"
     ]
    }
   ],
   "source": [
    "#Ковариация\n",
    "\n",
    "#В отличие от дисперсии, которая измеряет отклонение одной-единственной переменной от ее среднего,\n",
    "#ковариация измеряет отклонение двух переменных в тандеме от своих средних.\n",
    "\n",
    "#invited_people = [2, 27, 15,  2, 17, 28, 24,  3, 18, 25,  8, 16, 26,  5, 19, 14, 18, 21, 21, 23]\n",
    "work_time = [3, 8, 5, 1, 4, 7, 7, 2, 5, 6, 4, 5, 6, 3, 5, 4, 5, 5, 4, 5]\n",
    "\n",
    "def dot(v: list[float], w: list[float]) -> float:\n",
    "    \"\"\"Вычисление sum(v_i + w_i)\"\"\"\n",
    "    assert len(v) == len(w), 'Должна быть одинаковая длина'\n",
    "    return sum([v_i * w_i for v_i, w_i in zip(v, w)])\n",
    "\n",
    "def covariance(xs: list[float], ys: list[float]) -> float:\n",
    "    assert len(xs) == len(ys), 'Должна быть одинаковая длина'\n",
    "    return dot(disp_mean(xs), disp_mean(ys)) / (len(xs) - 1)\n",
    "print(invited_people)\n",
    "print(work_time)\n",
    "print(covariance(invited_people, work_time))\n",
    "\n",
    "print(f'Среднее invited people {calc_mean(invited_people)}')\n",
    "print(f'Среднее work time {calc_mean(work_time)}')"
   ]
  },
  {
   "cell_type": "code",
   "execution_count": 49,
   "id": "0a12f19a",
   "metadata": {},
   "outputs": [
    {
     "name": "stdout",
     "output_type": "stream",
     "text": [
      "0.1403918566236729\n"
     ]
    }
   ],
   "source": [
    "# Корреляция\n",
    "\n",
    "def correlation(xs: list[float], ys: list[float]) -> float:\n",
    "    \"\"\"Измеряет связь между двумя выборками. Кофэффициент в диапазоне [-1, 1]\"\"\"\n",
    "    stdev_x = standart_deviation(xs)\n",
    "    stdev_y = standart_deviation(ys)\n",
    "    if stdev_x > 0 and stdev_y > 0:\n",
    "        return covariance(xs, ys) / (stdev_x * stdev_y)\n",
    "    else:\n",
    "        return 0 #Если вариации нет, то корреляция равна\n",
    "    \n",
    "print(correlation(invited_people, work_time))   "
   ]
  },
  {
   "cell_type": "code",
   "execution_count": 50,
   "id": "92cb4832",
   "metadata": {},
   "outputs": [
    {
     "data": {
      "image/png": "[encoded data removed]",
      "text/plain": [
       "<Figure size 432x288 with 1 Axes>"
      ]
     },
     "metadata": {
      "needs_background": "light"
     },
     "output_type": "display_data"
    }
   ],
   "source": [
    "plt.scatter(invited_people, work_time, color='black', edgecolor='red')\n",
    "plt.xlabel('Число приглашений')\n",
    "plt.ylabel('Время работы')\n",
    "plt.show()"
   ]
  },
  {
   "cell_type": "code",
   "execution_count": null,
   "id": "827b42e3",
   "metadata": {},
   "outputs": [],
   "source": []
  }
 ],
 "metadata": {
  "kernelspec": {
   "display_name": "Python 3 (ipykernel)",
   "language": "python",
   "name": "python3"
  },
  "language_info": {
   "codemirror_mode": {
    "name": "ipython",
    "version": 3
   },
   "file_extension": ".py",
   "mimetype": "text/x-python",
   "name": "python",
   "nbconvert_exporter": "python",
   "pygments_lexer": "ipython3",
   "version": "3.9.12"
  }
 },
 "nbformat": 4,
 "nbformat_minor": 5
}
