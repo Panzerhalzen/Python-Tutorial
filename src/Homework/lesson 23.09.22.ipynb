{
 "cells": [
  {
   "cell_type": "code",
   "execution_count": 12,
   "id": "8b8b019a",
   "metadata": {},
   "outputs": [],
   "source": [
    "import numpy as np\n",
    "import matplotlib.pyplot as plt\n",
    "from collections import Counter"
   ]
  },
  {
   "cell_type": "code",
   "execution_count": 3,
   "id": "6b88039b",
   "metadata": {},
   "outputs": [
    {
     "data": {
      "text/plain": [
       "[8, 14, 19, 4, 19, 26, 23, 21, 1, 29, 5, 21, 7, 25, 8, 14, 1, 1, 15, 9]"
      ]
     },
     "execution_count": 3,
     "metadata": {},
     "output_type": "execute_result"
    }
   ],
   "source": [
    "invite_people = [np.random.randint(0, 30) for i in range(20)]\n",
    "invite_people"
   ]
  },
  {
   "cell_type": "code",
   "execution_count": 6,
   "id": "a9ce75a0",
   "metadata": {},
   "outputs": [],
   "source": [
    "people_counter = Counter(invite_people)\n",
    "xs = [num_people for num_people in people_counter]\n",
    "ys = [people_counter[num_people] for num_people in people_counter]"
   ]
  },
  {
   "cell_type": "code",
   "execution_count": 7,
   "id": "2499b5ac",
   "metadata": {},
   "outputs": [
    {
     "data": {
      "text/plain": [
       "Counter({8: 2,\n",
       "         14: 2,\n",
       "         19: 2,\n",
       "         4: 1,\n",
       "         26: 1,\n",
       "         23: 1,\n",
       "         21: 2,\n",
       "         1: 3,\n",
       "         29: 1,\n",
       "         5: 1,\n",
       "         7: 1,\n",
       "         25: 1,\n",
       "         15: 1,\n",
       "         9: 1})"
      ]
     },
     "execution_count": 7,
     "metadata": {},
     "output_type": "execute_result"
    }
   ],
   "source": [
    "people_counter"
   ]
  },
  {
   "cell_type": "code",
   "execution_count": 9,
   "id": "e6244baf",
   "metadata": {},
   "outputs": [
    {
     "data": {
      "text/plain": [
       "[8, 14, 19, 4, 26, 23, 21, 1, 29, 5, 7, 25, 15, 9]"
      ]
     },
     "execution_count": 9,
     "metadata": {},
     "output_type": "execute_result"
    }
   ],
   "source": [
    "xs\n"
   ]
  },
  {
   "cell_type": "code",
   "execution_count": 10,
   "id": "95c77bf8",
   "metadata": {},
   "outputs": [
    {
     "data": {
      "text/plain": [
       "[2, 2, 2, 1, 1, 1, 2, 3, 1, 1, 1, 1, 1, 1]"
      ]
     },
     "execution_count": 10,
     "metadata": {},
     "output_type": "execute_result"
    }
   ],
   "source": [
    "ys"
   ]
  },
  {
   "cell_type": "code",
   "execution_count": 27,
   "id": "77b97e2d",
   "metadata": {},
   "outputs": [
    {
     "data": {
      "image/png": "[encoded data removed]",
      "text/plain": [
       "<Figure size 432x288 with 1 Axes>"
      ]
     },
     "metadata": {
      "needs_background": "light"
     },
     "output_type": "display_data"
    }
   ],
   "source": [
    "plt.bar(xs, ys, color='blue', edgecolor='red')\n",
    "plt.xticks([2*i for i in range(16)])\n",
    "plt.xlabel('Число приглашенных людей')\n",
    "plt.ylabel('Число сотруднков HR')\n",
    "plt.title('Количество приглашений')\n",
    "plt.show()"
   ]
  },
  {
   "cell_type": "code",
   "execution_count": 29,
   "id": "053f36f0",
   "metadata": {},
   "outputs": [
    {
     "name": "stdout",
     "output_type": "stream",
     "text": [
      "Число hr: 20\n"
     ]
    }
   ],
   "source": [
    "num_points = len(invite_people)\n",
    "print('Число hr:', num_points)"
   ]
  },
  {
   "cell_type": "code",
   "execution_count": 35,
   "id": "704f0891",
   "metadata": {},
   "outputs": [
    {
     "name": "stdout",
     "output_type": "stream",
     "text": [
      "Максимальное число приглашенных одним hr: 29\n"
     ]
    }
   ],
   "source": [
    "people_max = max(invite_people)\n",
    "print('Максимальное число приглашенных одним hr:', people_max)"
   ]
  },
  {
   "cell_type": "code",
   "execution_count": 34,
   "id": "b72a43b7",
   "metadata": {},
   "outputs": [
    {
     "name": "stdout",
     "output_type": "stream",
     "text": [
      "Минимальное число приглашенных одним hr: 1\n"
     ]
    }
   ],
   "source": [
    "people_min = min(invite_people)\n",
    "print('Минимальное число приглашенных одним hr:', people_min)"
   ]
  },
  {
   "cell_type": "code",
   "execution_count": 41,
   "id": "b5f2f8dd",
   "metadata": {},
   "outputs": [],
   "source": [
    "sort_invite_people = sorted(invite_people)"
   ]
  },
  {
   "cell_type": "code",
   "execution_count": 43,
   "id": "5397cbd3",
   "metadata": {},
   "outputs": [
    {
     "name": "stdout",
     "output_type": "stream",
     "text": [
      "26\n"
     ]
    }
   ],
   "source": [
    "people_second_max = sort_invite_people[-2]\n",
    "print(people_second_max)"
   ]
  },
  {
   "cell_type": "code",
   "execution_count": 44,
   "id": "0e68c7c9",
   "metadata": {},
   "outputs": [
    {
     "name": "stdout",
     "output_type": "stream",
     "text": [
      "1\n"
     ]
    }
   ],
   "source": [
    "people_second_min = sort_invite_people[1]\n",
    "print(people_second_min)"
   ]
  },
  {
   "cell_type": "code",
   "execution_count": 45,
   "id": "74d2a4d4",
   "metadata": {},
   "outputs": [],
   "source": [
    "def mean(List: list[float]) -> float:\n",
    "    List_sum = sum(List)\n",
    "    List_mean = List_sum / len(List)\n",
    "    return List_mean"
   ]
  },
  {
   "cell_type": "code",
   "execution_count": 47,
   "id": "b2f8a8ec",
   "metadata": {},
   "outputs": [
    {
     "name": "stdout",
     "output_type": "stream",
     "text": [
      "13.5\n"
     ]
    }
   ],
   "source": [
    "print(mean(invite_people))\n"
   ]
  },
  {
   "cell_type": "code",
   "execution_count": 51,
   "id": "367619fe",
   "metadata": {},
   "outputs": [],
   "source": [
    "def mediana_even(List: list[float]) -> float:\n",
    "    List_sort = sorted(List)\n",
    "    print(List_sort)"
   ]
  },
  {
   "cell_type": "code",
   "execution_count": 52,
   "id": "1ca3cdd0",
   "metadata": {},
   "outputs": [
    {
     "name": "stdout",
     "output_type": "stream",
     "text": [
      "[1, 1, 1, 4, 5, 7, 8, 8, 9, 14, 14, 15, 19, 19, 21, 21, 23, 25, 26, 29]\n"
     ]
    }
   ],
   "source": [
    "mediana_even(invite_people)"
   ]
  },
  {
   "cell_type": "code",
   "execution_count": null,
   "id": "ed851c49",
   "metadata": {},
   "outputs": [],
   "source": []
  }
 ],
 "metadata": {
  "kernelspec": {
   "display_name": "Python 3 (ipykernel)",
   "language": "python",
   "name": "python3"
  },
  "language_info": {
   "codemirror_mode": {
    "name": "ipython",
    "version": 3
   },
   "file_extension": ".py",
   "mimetype": "text/x-python",
   "name": "python",
   "nbconvert_exporter": "python",
   "pygments_lexer": "ipython3",
   "version": "3.9.12"
  }
 },
 "nbformat": 4,
 "nbformat_minor": 5
}
